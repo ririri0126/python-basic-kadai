{
  "nbformat": 4,
  "nbformat_minor": 0,
  "metadata": {
    "colab": {
      "provenance": []
    },
    "kernelspec": {
      "name": "python3",
      "display_name": "Python 3"
    },
    "language_info": {
      "name": "python"
    }
  },
  "cells": [
    {
      "cell_type": "code",
      "execution_count": null,
      "metadata": {
        "colab": {
          "base_uri": "https://localhost:8080/"
        },
        "id": "uWn4GZdUtYLa",
        "outputId": "16d36892-f39e-4f6d-cc42-34e9b5ff7512"
      },
      "outputs": [
        {
          "output_type": "stream",
          "name": "stdout",
          "text": [
            "121.0\n"
          ]
        }
      ],
      "source": [
        "def taxcalc(num,tax):\n",
        " result=num+(num*tax/100)\n",
        " return result\n",
        "print(taxcalc(110,10))\n"
      ]
    }
  ]
}