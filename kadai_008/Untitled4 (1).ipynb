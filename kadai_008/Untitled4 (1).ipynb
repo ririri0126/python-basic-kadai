{
  "nbformat": 4,
  "nbformat_minor": 0,
  "metadata": {
    "colab": {
      "provenance": []
    },
    "kernelspec": {
      "name": "python3",
      "display_name": "Python 3"
    },
    "language_info": {
      "name": "python"
    }
  },
  "cells": [
    {
      "cell_type": "code",
      "execution_count": 7,
      "metadata": {
        "colab": {
          "base_uri": "https://localhost:8080/"
        },
        "id": "zY7FDr40aquZ",
        "outputId": "806bf107-2b96-4d6b-9ece-9d80b8e6076c"
      },
      "outputs": [
        {
          "output_type": "stream",
          "name": "stdout",
          "text": [
            "2\n"
          ]
        }
      ],
      "source": [
        "# prompt: if文を用いて、以下の条件分岐をするコードを記述してください。値はprint関数で出力してください。\n",
        "# ・変数varが、3の倍数の場合は「Fizz」を出力\n",
        "# ・変数varが、5の倍数の場合は「Buzz」を出力\n",
        "# ・変数varが、3の倍数と5の倍数の両方に該当する場合は「FizzBuzz」を出力\n",
        "# ・上記のどの場合にも該当しない場合は、変数varの値を出力\n",
        "# ただし、変数varは正の整数とします。\n",
        "\n",
        "var = 2  # 例として15を設定します。任意の正の整数に置き換えてください。\n",
        "\n",
        "if var % 3 == 0 and var % 5 == 0:\n",
        "  print(\"FizzBuzz\")\n",
        "elif var % 3 == 0:\n",
        "  print(\"Fizz\")\n",
        "elif var % 5 == 0:\n",
        "  print(\"Buzz\")\n",
        "else:\n",
        "  print(var)"
      ]
    }
  ]
}