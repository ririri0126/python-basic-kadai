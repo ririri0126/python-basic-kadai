{
  "nbformat": 4,
  "nbformat_minor": 0,
  "metadata": {
    "colab": {
      "provenance": []
    },
    "kernelspec": {
      "name": "python3",
      "display_name": "Python 3"
    },
    "language_info": {
      "name": "python"
    }
  },
  "cells": [
    {
      "cell_type": "markdown",
      "source": [],
      "metadata": {
        "id": "eBjN1zeTZ6dY"
      }
    },
    {
      "cell_type": "code",
      "source": [
        "# prompt: 形の面積＝（上底+下底）×高さ÷2\n",
        "\n",
        "#台形の面積を計算する関数\n",
        "def calculate_trapezoid_area(upper_base, lower_base, height):\n",
        "  \"\"\"\n",
        "  台形の面積を計算します。\n",
        "\n",
        "  Args:\n",
        "    upper_base: 上底の長さ (数値).\n",
        "    lower_base: 下底の長さ (数値).\n",
        "    height: 高さの長さ (数値).\n",
        "\n",
        "  Returns:\n",
        "    台形の面積 (数値).\n",
        "  \"\"\"\n",
        "  area = (upper_base + lower_base) * height / 2\n",
        "  return area\n",
        "\n",
        "# 使用例\n",
        "upper = 10\n",
        "lower = 20\n",
        "h = 5\n",
        "area = calculate_trapezoid_area(upper, lower, h)\n",
        "print(f\"上底 {upper}, 下底 {lower}, 高さ {h} の台形の面積は {area} ㎠です。\")\n"
      ],
      "metadata": {
        "colab": {
          "base_uri": "https://localhost:8080/"
        },
        "id": "DrF_LT5McEW5",
        "outputId": "efaa8a5d-4a73-40aa-88c9-37f7b5247d98"
      },
      "execution_count": null,
      "outputs": [
        {
          "output_type": "stream",
          "name": "stdout",
          "text": [
            "上底 10, 下底 20, 高さ 5 の台形の面積は 75.0 ㎠です。\n"
          ]
        }
      ]
    }
  ]
}